{
 "cells": [
  {
   "cell_type": "code",
   "execution_count": null,
   "id": "b460f0a7",
   "metadata": {},
   "outputs": [],
   "source": [
    "#Criando uma função para cada Operação:\n",
    "\n",
    "def adição(x, y):\n",
    "    return x+y\n",
    "\n",
    "def subtração(x, y):\n",
    "    return x-y\n",
    "\n",
    "def multipicação(x, y):\n",
    "    return x*y\n",
    "\n",
    "def divisão(x, y):\n",
    "    return x/y"
   ]
  },
  {
   "cell_type": "code",
   "execution_count": null,
   "id": "9e03fdab",
   "metadata": {},
   "outputs": [],
   "source": [
    "#Solicitação ao usuário que escolha a operação:\n",
    "\n",
    "print(\" Calculadora \\n Escolha uma operação: \")\n",
    "print(\" 1 - Adição: \")\n",
    "print(\" 2 - Subtração: \")\n",
    "print(\" 3 - Multiplicação: \")\n",
    "print(\" 4 - Divisão: \")\n",
    "\n",
    "escolha=input(\"Digite o número da Operação: 1, 2, 3 ou 4:\")"
   ]
  },
  {
   "cell_type": "code",
   "execution_count": null,
   "id": "e3a799a2",
   "metadata": {},
   "outputs": [],
   "source": [
    "#Solicitando ao usuário que insira os números\n",
    "\n",
    "num1=float(input(\"Digite o primeiro valor: \"))\n",
    "num2=float(input(\"Digite o segundo o valor: \"))"
   ]
  },
  {
   "cell_type": "code",
   "execution_count": null,
   "id": "34bbc089",
   "metadata": {},
   "outputs": [],
   "source": [
    "#Execução a operação Escolhia e exibindo o resultado:\n",
    "if escolha == \"1\":\n",
    "    print(num1+num2)\n",
    "elif escolha == \"2\":\n",
    "    print(num1-num2)\n",
    "elif escolha == \"3\":\n",
    "    print(num1*num2)\n",
    "elif escolha == \"4\":\n",
    "    print(num1/num2)\n",
    "    \n",
    "else:\n",
    "    print(\"Operação INVALIDA! \")"
   ]
  },
  {
   "cell_type": "code",
   "execution_count": null,
   "id": "00d3fb07",
   "metadata": {},
   "outputs": [],
   "source": [
    "#Finalização\n",
    "input(\"Aperte ENTER para finalizar. \")"
   ]
  },
  {
   "cell_type": "code",
   "execution_count": null,
   "id": "00ecada2",
   "metadata": {},
   "outputs": [],
   "source": []
  }
 ],
 "metadata": {
  "kernelspec": {
   "display_name": "Python 3 (ipykernel)",
   "language": "python",
   "name": "python3"
  },
  "language_info": {
   "codemirror_mode": {
    "name": "ipython",
    "version": 3
   },
   "file_extension": ".py",
   "mimetype": "text/x-python",
   "name": "python",
   "nbconvert_exporter": "python",
   "pygments_lexer": "ipython3",
   "version": "3.11.7"
  }
 },
 "nbformat": 4,
 "nbformat_minor": 5
}
